{
 "cells": [
  {
   "cell_type": "code",
   "execution_count": 275,
   "id": "cc6250df",
   "metadata": {
    "scrolled": true
   },
   "outputs": [],
   "source": [
    "import pandas as pd\n",
    "\n",
    "abe_survey = pd.read_excel('ABE Career Outcomes Data 2016-2021.xlsx')"
   ]
  },
  {
   "cell_type": "code",
   "execution_count": 277,
   "id": "3afa9c84",
   "metadata": {},
   "outputs": [],
   "source": [
    "competencies = pd.read_excel('competencies.xlsx')\n",
    "abe_comp = competencies[competencies['Major']=='Engineering'].drop(['Option(s)', 'Major'], axis=1)"
   ]
  },
  {
   "cell_type": "code",
   "execution_count": 278,
   "id": "08353c8b",
   "metadata": {},
   "outputs": [
    {
     "data": {
      "text/plain": [
       "John Deere                      18\n",
       "Vermeer Corporation             12\n",
       "Cargill, Incorporated            8\n",
       "Kuhn North America, Inc.         5\n",
       "Henning Companies LLC            5\n",
       "                                ..\n",
       "Toyne Inc.                       1\n",
       "Puck Custom Enterprises          1\n",
       "Renewable Energy Group (REG)     1\n",
       "WSP                              1\n",
       "Universal Industries, Inc.       1\n",
       "Name: Organization Name, Length: 100, dtype: int64"
      ]
     },
     "execution_count": 278,
     "metadata": {},
     "output_type": "execute_result"
    }
   ],
   "source": [
    "abe_survey['Organization Name'].value_counts()"
   ]
  },
  {
   "cell_type": "code",
   "execution_count": 216,
   "id": "455fbfdb",
   "metadata": {},
   "outputs": [
    {
     "name": "stdout",
     "output_type": "stream",
     "text": [
      "TOP 10 EMPLOYERS FOR BSE AND AE \n",
      " \n",
      "BSE Common Employers:\n",
      " Cargill, Incorporated                                                                                        6\n",
      "ISG                                                                                                          2\n",
      "John Deere                                                                                                   2\n",
      "Ardent Mills                                                                                                 2\n",
      "PepsiCo                                                                                                      2\n",
      "ADM                                                                                                          2\n",
      "Koch Industries Companies (Georgia-Pacific, Molex, Guardian Industries, Flint Hills Resources, & INVISTA)    1\n",
      "Ajinomoto North America, Inc                                                                                 1\n",
      "Tate & Lyle                                                                                                  1\n",
      "Burns & McDonnell Engineering                                                                                1\n",
      "Name: Organization Name, dtype: int64\n",
      "AE Common Employers: \n",
      " John Deere                                     16\n",
      "Vermeer Corporation                            12\n",
      "Henning Companies LLC                           5\n",
      "AGCO Corporate Group                            5\n",
      "Kuhn North America, Inc.                        5\n",
      "Ag Leader Technology                            4\n",
      "Energy Panel Structures, Inc.                   3\n",
      "USDA Natural Resources Conservation Service     3\n",
      "Sage Ag LLC                                     3\n",
      "CNH Industrial                                  3\n",
      "Name: Organization Name, dtype: int64\n"
     ]
    },
    {
     "data": {
      "text/html": [
       "<div>\n",
       "<style scoped>\n",
       "    .dataframe tbody tr th:only-of-type {\n",
       "        vertical-align: middle;\n",
       "    }\n",
       "\n",
       "    .dataframe tbody tr th {\n",
       "        vertical-align: top;\n",
       "    }\n",
       "\n",
       "    .dataframe thead th {\n",
       "        text-align: right;\n",
       "    }\n",
       "</style>\n",
       "<table border=\"1\" class=\"dataframe\">\n",
       "  <thead>\n",
       "    <tr style=\"text-align: right;\">\n",
       "      <th></th>\n",
       "      <th>Employer</th>\n",
       "    </tr>\n",
       "  </thead>\n",
       "  <tbody>\n",
       "    <tr>\n",
       "      <th>0</th>\n",
       "      <td>Double L Group</td>\n",
       "    </tr>\n",
       "    <tr>\n",
       "      <th>1</th>\n",
       "      <td>John Deere</td>\n",
       "    </tr>\n",
       "    <tr>\n",
       "      <th>2</th>\n",
       "      <td>Kent Corporation</td>\n",
       "    </tr>\n",
       "    <tr>\n",
       "      <th>3</th>\n",
       "      <td>Syngenta</td>\n",
       "    </tr>\n",
       "    <tr>\n",
       "      <th>4</th>\n",
       "      <td>Cargill, Incorporated</td>\n",
       "    </tr>\n",
       "    <tr>\n",
       "      <th>...</th>\n",
       "      <td>...</td>\n",
       "    </tr>\n",
       "    <tr>\n",
       "      <th>95</th>\n",
       "      <td>United States Department of Agriculture</td>\n",
       "    </tr>\n",
       "    <tr>\n",
       "      <th>96</th>\n",
       "      <td>3M</td>\n",
       "    </tr>\n",
       "    <tr>\n",
       "      <th>97</th>\n",
       "      <td>Frito-Lay, Inc.</td>\n",
       "    </tr>\n",
       "    <tr>\n",
       "      <th>98</th>\n",
       "      <td>JEO Consulting Group, Inc.</td>\n",
       "    </tr>\n",
       "    <tr>\n",
       "      <th>99</th>\n",
       "      <td>Trinity Consultants</td>\n",
       "    </tr>\n",
       "  </tbody>\n",
       "</table>\n",
       "<p>100 rows × 1 columns</p>\n",
       "</div>"
      ],
      "text/plain": [
       "                                   Employer\n",
       "0                            Double L Group\n",
       "1                                John Deere\n",
       "2                          Kent Corporation\n",
       "3                                  Syngenta\n",
       "4                     Cargill, Incorporated\n",
       "..                                      ...\n",
       "95  United States Department of Agriculture\n",
       "96                                       3M\n",
       "97                          Frito-Lay, Inc.\n",
       "98               JEO Consulting Group, Inc.\n",
       "99                      Trinity Consultants\n",
       "\n",
       "[100 rows x 1 columns]"
      ]
     },
     "metadata": {},
     "output_type": "display_data"
    }
   ],
   "source": [
    "bse = abe_survey[abe_survey['Major 1 at Graduation'] == 'Biological Systems Engineering']\n",
    "ag = abe_survey[abe_survey['Major 1 at Graduation'] == 'Agricultural Engineering']\n",
    "print('TOP 10 EMPLOYERS FOR BSE AND AE \\n \\nBSE Common Employers:\\n',bse['Organization Name'].value_counts().nlargest(10))\n",
    "print('AE Common Employers: \\n', ag['Organization Name'].value_counts().nlargest(10))\n",
    "abe = pd.concat([bse['Organization Name'],ag['Organization Name']], axis=0)\n",
    "abe = abe_survey['Organization Name']\n",
    "abe = abe.dropna(axis=0)\n",
    "abe = abe.unique()\n",
    "abe = pd.DataFrame(abe, columns=['Employer'])\n",
    "display(abe)"
   ]
  },
  {
   "cell_type": "code",
   "execution_count": 282,
   "id": "ccbef043",
   "metadata": {},
   "outputs": [],
   "source": [
    "# Next, I isolated the most common job titles that ABE graduates have. \n",
    "# I selected all job titles that at least 2 people acquired upon graduation. \n",
    "bse_job = bse['Job Title'].value_counts().nlargest(4).to_frame()\n",
    "ag_job = ag['Job Title'].value_counts().nlargest(17).to_frame()\n",
    "bse_joblist = bse_job.index\n",
    "ag_joblist = ag_job.index"
   ]
  },
  {
   "cell_type": "code",
   "execution_count": 17,
   "id": "941e8275",
   "metadata": {},
   "outputs": [
    {
     "data": {
      "text/html": [
       "<div>\n",
       "<style scoped>\n",
       "    .dataframe tbody tr th:only-of-type {\n",
       "        vertical-align: middle;\n",
       "    }\n",
       "\n",
       "    .dataframe tbody tr th {\n",
       "        vertical-align: top;\n",
       "    }\n",
       "\n",
       "    .dataframe thead th {\n",
       "        text-align: right;\n",
       "    }\n",
       "</style>\n",
       "<table border=\"1\" class=\"dataframe\">\n",
       "  <thead>\n",
       "    <tr style=\"text-align: right;\">\n",
       "      <th></th>\n",
       "      <th>Job_Titles</th>\n",
       "    </tr>\n",
       "  </thead>\n",
       "  <tbody>\n",
       "  </tbody>\n",
       "</table>\n",
       "</div>"
      ],
      "text/plain": [
       "Empty DataFrame\n",
       "Columns: [Job_Titles]\n",
       "Index: []"
      ]
     },
     "metadata": {},
     "output_type": "display_data"
    },
    {
     "data": {
      "text/html": [
       "<div>\n",
       "<style scoped>\n",
       "    .dataframe tbody tr th:only-of-type {\n",
       "        vertical-align: middle;\n",
       "    }\n",
       "\n",
       "    .dataframe tbody tr th {\n",
       "        vertical-align: top;\n",
       "    }\n",
       "\n",
       "    .dataframe thead th {\n",
       "        text-align: right;\n",
       "    }\n",
       "</style>\n",
       "<table border=\"1\" class=\"dataframe\">\n",
       "  <thead>\n",
       "    <tr style=\"text-align: right;\">\n",
       "      <th></th>\n",
       "      <th>Job_Titles</th>\n",
       "      <th>Company</th>\n",
       "      <th>URL</th>\n",
       "    </tr>\n",
       "  </thead>\n",
       "  <tbody>\n",
       "  </tbody>\n",
       "</table>\n",
       "</div>"
      ],
      "text/plain": [
       "Empty DataFrame\n",
       "Columns: [Job_Titles, Company, URL]\n",
       "Index: []"
      ]
     },
     "metadata": {},
     "output_type": "display_data"
    }
   ],
   "source": [
    "## ***************************\n",
    "# huge thank you to Ryan Jeon for developing the base of this indeed text scraping code\n",
    "# see supplemental information for the source code created by him, it has been modified slightly for this application\n",
    "from bs4 import BeautifulSoup\n",
    "import requests\n",
    "\n",
    "headers = {'User-Agent': \"Mozilla/5.0 (Windows NT 10.0; Win64; x64) AppleWebKit/537.36 (KHTML, like Gecko) Chrome/70.0.3538.77 Safari/537.36\"}\n",
    "df = pd.DataFrame(columns = [\"Job_Titles\"])\n",
    "df2 = pd.DataFrame(columns = [\"Company\"])\n",
    "df3 = pd.DataFrame(columns = [\"URL\"])\n",
    "\n",
    "\n",
    "r = requests.get('https://www.indeed.com/jobs?q=agricultural%20engineer&start=10'.format(0), headers = headers)\n",
    "soup = BeautifulSoup(r.text, 'html.parser')\n",
    "titles = soup.select(\"h2 span\") \n",
    "# select all span tags under the umbrella of h2 tags \n",
    "companies = soup.find_all(class_ = \"companyName\")\n",
    "URLs = soup.find_all('a', attrs = {'class' : 'tapItem'})\n",
    "\n",
    "for title in titles:\n",
    "    titles_list = title.text\n",
    "    # the gotcha here is that there are \"news\" scattered so we have to remove those first before concatenating our data\n",
    "    df.loc[len(df.index)] = [titles_list]\n",
    "    df = df[df.Job_Titles != \"new\"]\n",
    "\n",
    "for company in companies:\n",
    "    company_list = company.text\n",
    "    df2.loc[len(df2.index)] = [company_list]\n",
    "\n",
    "for URL in URLs:\n",
    "    base = 'http://www.indeed.com'\n",
    "    link = URL.attrs['href']\n",
    "    new_URL = base + link\n",
    "    df3.loc[len(df3.index)] = [new_URL]    \n",
    "    \n",
    "indeed = pd.concat([df, df2, df3], axis=1, join='inner')\n",
    "display(df)\n",
    "display(indeed)\n",
    "## *************** end of code edited from Ryan Jeon's amazing work! :)"
   ]
  },
  {
   "cell_type": "code",
   "execution_count": 77,
   "id": "74f78450",
   "metadata": {},
   "outputs": [],
   "source": [
    "def indeed_posts(search_term):\n",
    "\n",
    "    kw = search_term.split(\" \")\n",
    " #   search_url = 'https://www.indeed.com/jobs?q='\n",
    " #   for word in range(0,len(kw)-1):\n",
    " #       search_url = search_url + kw[word] + '%20'\n",
    " #   search_url = search_url + kw[len(kw)-1] + '&start={' + pagenumber + '}'\n",
    "    ## *************************** a huge thank you to Ryan Jeon for developing the base of this indeed text scraping code\n",
    "    # see supplemental information for the source code created by him, it has been modified slightly for this application\n",
    "    from bs4 import BeautifulSoup\n",
    "    import requests\n",
    "    import time\n",
    "    headers = {'User-Agent': 'Mozilla/5.0 (Macintosh; Intel Mac OS X 10_15_7) AppleWebKit/605.1.15 (KHTML, like Gecko) Version/14.1.2 Safari/605.1.15'}\n",
    "    df = pd.DataFrame(columns = [\"Job_Titles\"])\n",
    "    df2 = pd.DataFrame(columns = [\"Company\"])\n",
    "    df3 = pd.DataFrame(columns = [\"URL\"])\n",
    "    sind = f'https://www.indeed.com/jobs?as_and='\n",
    "    kword = '&as_phr&as_any=biological%2C%20agriculture%2C%20food%2C%20environment%2C%20biofuel%2C%20fermentation%2C%20water%2C%20machinery%2C%20animal'\n",
    "    end = '&as_not&as_ttl&as_cmp&jt=all&st&salary&radius=25&l&fromage=any&limit=10&sort&psf=advsrch&from=advancedsearch&vjk=ffced369343eb245'\n",
    "    # key words to look for in job title/description to get closer to the industry students join\n",
    "    for pagenum in range(0,30,10):\n",
    "        for word in range(0,len(kw)-1):\n",
    "            search_url = sind + kw[word] + '%20'\n",
    "        search_url = search_url + kw[len(kw)-1] + kword + end+'%20&start=' + str(pagenum)\n",
    "        r = requests.get(search_url, headers = headers)\n",
    "        time.sleep(1)\n",
    "        soup = BeautifulSoup(r.text, 'html.parser')\n",
    "        titles = soup.select(\"h2 span\") \n",
    "        # select all span tags under the umbrella of h2 tags \n",
    "        companies = soup.find_all(class_ = \"companyName\")\n",
    "        URLs = soup.find_all('a', attrs = {'class' : 'tapItem'})\n",
    "        for title in titles:\n",
    "            titles_list = title.text\n",
    "            # the gotcha here is that there are \"news\" scattered so we have to remove those first before concatenating our data\n",
    "            df.loc[len(df.index)] = [titles_list]\n",
    "            df = df[df.Job_Titles != \"new\"]\n",
    "        for company in companies:\n",
    "            company_list = company.text\n",
    "            df2.loc[len(df2.index)] = [company_list]\n",
    "        for URL in URLs:\n",
    "            base = 'http://www.indeed.com'\n",
    "            link = URL.attrs['href']\n",
    "            new_URL = base + link\n",
    "            df3.loc[len(df3.index)] = [new_URL]    \n",
    "        ## *************************** end of code edited from Ryan Jeon's amazing work! :)\n",
    "\n",
    "    jdesc =  pd.DataFrame(columns = [\"Job Description\"])\n",
    "\n",
    "    for post in df3['URL']:\n",
    "        r = requests.get(post.format(0), headers = headers)\n",
    "        soup = BeautifulSoup(r.text, 'html.parser')\n",
    "        time.sleep(1)\n",
    "        job_description = soup.find('div',{'id':'jobDescriptionText'})\n",
    "        jd = job_description.text if job_description else \"N/A\"\n",
    "        jdesc.loc[len(jdesc.index)] = [jd.replace('\\n', ' ')]   \n",
    "    indeed = pd.concat([df, df2, df3, jdesc], axis=1, join='inner')\n",
    "    return indeed"
   ]
  },
  {
   "cell_type": "code",
   "execution_count": 76,
   "id": "dfb98106",
   "metadata": {},
   "outputs": [
    {
     "name": "stdout",
     "output_type": "stream",
     "text": [
      "https://www.indeed.com/jobs?as_and=Project%20Engineer&as_phr&as_any=biological%2C%20agriculture%2C%20food%2C%20environment%2C%20biofuel%2C%20fermentation%2C%20water%2C%20machinery%2C%20animal&as_not&as_ttl&as_cmp&jt=all&st&salary&radius=25&l&fromage=any&limit=10&sort&psf=advsrch&from=advancedsearch&vjk=ffced369343eb245%20&start=0\n",
      "https://www.indeed.com/jobs?as_and=Project%20Engineer&as_phr&as_any=biological%2C%20agriculture%2C%20food%2C%20environment%2C%20biofuel%2C%20fermentation%2C%20water%2C%20machinery%2C%20animal&as_not&as_ttl&as_cmp&jt=all&st&salary&radius=25&l&fromage=any&limit=10&sort&psf=advsrch&from=advancedsearch&vjk=ffced369343eb245%20&start=10\n",
      "https://www.indeed.com/jobs?as_and=Project%20Engineer&as_phr&as_any=biological%2C%20agriculture%2C%20food%2C%20environment%2C%20biofuel%2C%20fermentation%2C%20water%2C%20machinery%2C%20animal&as_not&as_ttl&as_cmp&jt=all&st&salary&radius=25&l&fromage=any&limit=10&sort&psf=advsrch&from=advancedsearch&vjk=ffced369343eb245%20&start=20\n",
      "https://www.indeed.com/jobs?as_and=Project%20Engineer&as_phr&as_any=biological%2C%20agriculture%2C%20food%2C%20environment%2C%20biofuel%2C%20fermentation%2C%20water%2C%20machinery%2C%20animal&as_not&as_ttl&as_cmp&jt=all&st&salary&radius=25&l&fromage=any&limit=10&sort&psf=advsrch&from=advancedsearch&vjk=ffced369343eb245%20&start=30\n",
      "https://www.indeed.com/jobs?as_and=Project%20Engineer&as_phr&as_any=biological%2C%20agriculture%2C%20food%2C%20environment%2C%20biofuel%2C%20fermentation%2C%20water%2C%20machinery%2C%20animal&as_not&as_ttl&as_cmp&jt=all&st&salary&radius=25&l&fromage=any&limit=10&sort&psf=advsrch&from=advancedsearch&vjk=ffced369343eb245%20&start=40\n",
      "https://www.indeed.com/jobs?as_and=Project%20Engineer&as_phr&as_any=biological%2C%20agriculture%2C%20food%2C%20environment%2C%20biofuel%2C%20fermentation%2C%20water%2C%20machinery%2C%20animal&as_not&as_ttl&as_cmp&jt=all&st&salary&radius=25&l&fromage=any&limit=10&sort&psf=advsrch&from=advancedsearch&vjk=ffced369343eb245%20&start=50\n"
     ]
    },
    {
     "data": {
      "text/html": [
       "<div>\n",
       "<style scoped>\n",
       "    .dataframe tbody tr th:only-of-type {\n",
       "        vertical-align: middle;\n",
       "    }\n",
       "\n",
       "    .dataframe tbody tr th {\n",
       "        vertical-align: top;\n",
       "    }\n",
       "\n",
       "    .dataframe thead th {\n",
       "        text-align: right;\n",
       "    }\n",
       "</style>\n",
       "<table border=\"1\" class=\"dataframe\">\n",
       "  <thead>\n",
       "    <tr style=\"text-align: right;\">\n",
       "      <th></th>\n",
       "      <th>Job_Titles</th>\n",
       "    </tr>\n",
       "  </thead>\n",
       "  <tbody>\n",
       "    <tr>\n",
       "      <th>0</th>\n",
       "      <td>Project Engineer II</td>\n",
       "    </tr>\n",
       "    <tr>\n",
       "      <th>1</th>\n",
       "      <td>MECHICAL ENGINEER (NO EXPERIENCE)</td>\n",
       "    </tr>\n",
       "    <tr>\n",
       "      <th>2</th>\n",
       "      <td>Mechanical Designer / Engineer-Work Remotely!</td>\n",
       "    </tr>\n",
       "    <tr>\n",
       "      <th>3</th>\n",
       "      <td>MECHANICAL ENGINEER (NO EXPERIENCE)</td>\n",
       "    </tr>\n",
       "    <tr>\n",
       "      <th>4</th>\n",
       "      <td>Project Engineer</td>\n",
       "    </tr>\n",
       "    <tr>\n",
       "      <th>...</th>\n",
       "      <td>...</td>\n",
       "    </tr>\n",
       "    <tr>\n",
       "      <th>85</th>\n",
       "      <td>Research &amp; Development Design Engineer</td>\n",
       "    </tr>\n",
       "    <tr>\n",
       "      <th>86</th>\n",
       "      <td>Water Resource Engineer</td>\n",
       "    </tr>\n",
       "    <tr>\n",
       "      <th>87</th>\n",
       "      <td>Engineer Assistant</td>\n",
       "    </tr>\n",
       "    <tr>\n",
       "      <th>88</th>\n",
       "      <td>Project Engineer - Food &amp; Beverage Process</td>\n",
       "    </tr>\n",
       "    <tr>\n",
       "      <th>89</th>\n",
       "      <td>Mechanical Engineer</td>\n",
       "    </tr>\n",
       "  </tbody>\n",
       "</table>\n",
       "<p>90 rows × 1 columns</p>\n",
       "</div>"
      ],
      "text/plain": [
       "                                       Job_Titles\n",
       "0                             Project Engineer II\n",
       "1               MECHICAL ENGINEER (NO EXPERIENCE)\n",
       "2   Mechanical Designer / Engineer-Work Remotely!\n",
       "3             MECHANICAL ENGINEER (NO EXPERIENCE)\n",
       "4                                Project Engineer\n",
       "..                                            ...\n",
       "85         Research & Development Design Engineer\n",
       "86                        Water Resource Engineer\n",
       "87                             Engineer Assistant\n",
       "88     Project Engineer - Food & Beverage Process\n",
       "89                            Mechanical Engineer\n",
       "\n",
       "[90 rows x 1 columns]"
      ]
     },
     "metadata": {},
     "output_type": "display_data"
    },
    {
     "data": {
      "text/html": [
       "<div>\n",
       "<style scoped>\n",
       "    .dataframe tbody tr th:only-of-type {\n",
       "        vertical-align: middle;\n",
       "    }\n",
       "\n",
       "    .dataframe tbody tr th {\n",
       "        vertical-align: top;\n",
       "    }\n",
       "\n",
       "    .dataframe thead th {\n",
       "        text-align: right;\n",
       "    }\n",
       "</style>\n",
       "<table border=\"1\" class=\"dataframe\">\n",
       "  <thead>\n",
       "    <tr style=\"text-align: right;\">\n",
       "      <th></th>\n",
       "      <th>Job_Titles</th>\n",
       "      <th>Company</th>\n",
       "      <th>URL</th>\n",
       "      <th>Job Description</th>\n",
       "    </tr>\n",
       "  </thead>\n",
       "  <tbody>\n",
       "    <tr>\n",
       "      <th>0</th>\n",
       "      <td>Project Engineer II</td>\n",
       "      <td>Cargill</td>\n",
       "      <td>http://www.indeed.com/rc/clk?jk=ffced369343eb2...</td>\n",
       "      <td>Want to build a stronger, more sustainable fut...</td>\n",
       "    </tr>\n",
       "    <tr>\n",
       "      <th>1</th>\n",
       "      <td>MECHICAL ENGINEER (NO EXPERIENCE)</td>\n",
       "      <td>CEMEX USA</td>\n",
       "      <td>http://www.indeed.com/company/CEMEX-USA/jobs/M...</td>\n",
       "      <td>Company OverviewFounded in 1906, over the last...</td>\n",
       "    </tr>\n",
       "    <tr>\n",
       "      <th>2</th>\n",
       "      <td>Mechanical Designer / Engineer-Work Remotely!</td>\n",
       "      <td>SSI Consulting</td>\n",
       "      <td>http://www.indeed.com/company/SSI-Consulting/j...</td>\n",
       "      <td>We are seeking mechanical designers and / or e...</td>\n",
       "    </tr>\n",
       "    <tr>\n",
       "      <th>3</th>\n",
       "      <td>MECHANICAL ENGINEER (NO EXPERIENCE)</td>\n",
       "      <td>CEMEX USA</td>\n",
       "      <td>http://www.indeed.com/company/CEMEX-USA/jobs/M...</td>\n",
       "      <td>Company OverviewFounded in 1906, over the last...</td>\n",
       "    </tr>\n",
       "    <tr>\n",
       "      <th>4</th>\n",
       "      <td>Project Engineer</td>\n",
       "      <td>Jackson Dean Construction</td>\n",
       "      <td>http://www.indeed.com/pagead/clk?mo=r&amp;ad=-6NYl...</td>\n",
       "      <td>Project EngineerJackson Dean Construction has ...</td>\n",
       "    </tr>\n",
       "    <tr>\n",
       "      <th>...</th>\n",
       "      <td>...</td>\n",
       "      <td>...</td>\n",
       "      <td>...</td>\n",
       "      <td>...</td>\n",
       "    </tr>\n",
       "    <tr>\n",
       "      <th>85</th>\n",
       "      <td>Research &amp; Development Design Engineer</td>\n",
       "      <td>Johnson &amp; Johnson Family of Companies</td>\n",
       "      <td>http://www.indeed.com/rc/clk?jk=4fe8b85c9e4b55...</td>\n",
       "      <td>Ethicon Endo Surgery Inc., a member of Johnson...</td>\n",
       "    </tr>\n",
       "    <tr>\n",
       "      <th>86</th>\n",
       "      <td>Water Resource Engineer</td>\n",
       "      <td>Colorado Springs Utilities</td>\n",
       "      <td>http://www.indeed.com/rc/clk?jk=27732ed09af3f0...</td>\n",
       "      <td>Job Type: Engineering/Engineering Support Pay ...</td>\n",
       "    </tr>\n",
       "    <tr>\n",
       "      <th>87</th>\n",
       "      <td>Engineer Assistant</td>\n",
       "      <td>City of La Vista, NE</td>\n",
       "      <td>http://www.indeed.com/rc/clk?jk=ae4b20b3600ade...</td>\n",
       "      <td>Applications for a full-time Engineer Assistan...</td>\n",
       "    </tr>\n",
       "    <tr>\n",
       "      <th>88</th>\n",
       "      <td>Project Engineer - Food &amp; Beverage Process</td>\n",
       "      <td>Stellar Group</td>\n",
       "      <td>http://www.indeed.com/rc/clk?jk=874b91788294a4...</td>\n",
       "      <td>Overview:  Stellar is seeking a Food &amp; Beverag...</td>\n",
       "    </tr>\n",
       "    <tr>\n",
       "      <th>89</th>\n",
       "      <td>Mechanical Engineer</td>\n",
       "      <td>RFA Engineering</td>\n",
       "      <td>http://www.indeed.com/rc/clk?jk=354d2d50827e05...</td>\n",
       "      <td>RFA Engineering (www.rfamec.com) is seeking a ...</td>\n",
       "    </tr>\n",
       "  </tbody>\n",
       "</table>\n",
       "<p>90 rows × 4 columns</p>\n",
       "</div>"
      ],
      "text/plain": [
       "                                       Job_Titles  \\\n",
       "0                             Project Engineer II   \n",
       "1               MECHICAL ENGINEER (NO EXPERIENCE)   \n",
       "2   Mechanical Designer / Engineer-Work Remotely!   \n",
       "3             MECHANICAL ENGINEER (NO EXPERIENCE)   \n",
       "4                                Project Engineer   \n",
       "..                                            ...   \n",
       "85         Research & Development Design Engineer   \n",
       "86                        Water Resource Engineer   \n",
       "87                             Engineer Assistant   \n",
       "88     Project Engineer - Food & Beverage Process   \n",
       "89                            Mechanical Engineer   \n",
       "\n",
       "                                  Company  \\\n",
       "0                                 Cargill   \n",
       "1                               CEMEX USA   \n",
       "2                          SSI Consulting   \n",
       "3                               CEMEX USA   \n",
       "4               Jackson Dean Construction   \n",
       "..                                    ...   \n",
       "85  Johnson & Johnson Family of Companies   \n",
       "86             Colorado Springs Utilities   \n",
       "87                   City of La Vista, NE   \n",
       "88                          Stellar Group   \n",
       "89                        RFA Engineering   \n",
       "\n",
       "                                                  URL  \\\n",
       "0   http://www.indeed.com/rc/clk?jk=ffced369343eb2...   \n",
       "1   http://www.indeed.com/company/CEMEX-USA/jobs/M...   \n",
       "2   http://www.indeed.com/company/SSI-Consulting/j...   \n",
       "3   http://www.indeed.com/company/CEMEX-USA/jobs/M...   \n",
       "4   http://www.indeed.com/pagead/clk?mo=r&ad=-6NYl...   \n",
       "..                                                ...   \n",
       "85  http://www.indeed.com/rc/clk?jk=4fe8b85c9e4b55...   \n",
       "86  http://www.indeed.com/rc/clk?jk=27732ed09af3f0...   \n",
       "87  http://www.indeed.com/rc/clk?jk=ae4b20b3600ade...   \n",
       "88  http://www.indeed.com/rc/clk?jk=874b91788294a4...   \n",
       "89  http://www.indeed.com/rc/clk?jk=354d2d50827e05...   \n",
       "\n",
       "                                      Job Description  \n",
       "0   Want to build a stronger, more sustainable fut...  \n",
       "1   Company OverviewFounded in 1906, over the last...  \n",
       "2   We are seeking mechanical designers and / or e...  \n",
       "3   Company OverviewFounded in 1906, over the last...  \n",
       "4   Project EngineerJackson Dean Construction has ...  \n",
       "..                                                ...  \n",
       "85  Ethicon Endo Surgery Inc., a member of Johnson...  \n",
       "86  Job Type: Engineering/Engineering Support Pay ...  \n",
       "87  Applications for a full-time Engineer Assistan...  \n",
       "88  Overview:  Stellar is seeking a Food & Beverag...  \n",
       "89  RFA Engineering (www.rfamec.com) is seeking a ...  \n",
       "\n",
       "[90 rows x 4 columns]"
      ]
     },
     "metadata": {},
     "output_type": "display_data"
    }
   ],
   "source": [
    "y = indeed_posts('Project Engineer')\n",
    "display(y)"
   ]
  },
  {
   "cell_type": "code",
   "execution_count": 220,
   "id": "72c35dff",
   "metadata": {},
   "outputs": [
    {
     "data": {
      "text/plain": [
       "0     Want to build a stronger, more sustainable fut...\n",
       "1     Company OverviewFounded in 1906, over the last...\n",
       "2     We are seeking mechanical designers and / or e...\n",
       "3     Company OverviewFounded in 1906, over the last...\n",
       "4     Project EngineerJackson Dean Construction has ...\n",
       "                            ...                        \n",
       "85    Ethicon Endo Surgery Inc., a member of Johnson...\n",
       "86    Job Type: Engineering/Engineering Support Pay ...\n",
       "87    Applications for a full-time Engineer Assistan...\n",
       "88    Overview:  Stellar is seeking a Food & Beverag...\n",
       "89    RFA Engineering (www.rfamec.com) is seeking a ...\n",
       "Name: Job Description, Length: 90, dtype: object"
      ]
     },
     "execution_count": 220,
     "metadata": {},
     "output_type": "execute_result"
    }
   ],
   "source": [
    "# add major job category column based on official job title\n",
    "y['Job Description']"
   ]
  },
  {
   "cell_type": "code",
   "execution_count": 283,
   "id": "4e1b4a01",
   "metadata": {},
   "outputs": [
    {
     "data": {
      "text/plain": [
       "[('and', 3021), ('to', 1648), ('the', 1437), ('of', 1301), ('in', 894)]"
      ]
     },
     "execution_count": 283,
     "metadata": {},
     "output_type": "execute_result"
    }
   ],
   "source": [
    "from collections import Counter\n",
    "Counter(\" \".join(y['Job Description']).split()).most_common(5)"
   ]
  },
  {
   "cell_type": "code",
   "execution_count": 223,
   "id": "9cbd4ed9",
   "metadata": {},
   "outputs": [],
   "source": [
    "import string\n",
    "from sklearn.metrics.pairwise import cosine_similarity\n",
    "from sklearn.feature_extraction.text import CountVectorizer, TfidfVectorizer\n",
    "from nltk.corpus import stopwords\n",
    "stopwords = stopwords.words('english')\n",
    "\n",
    "def clean_post(text):\n",
    "    text = ''.join([word for word in text if word not in string.punctuation])\n",
    "    text = text.lower()\n",
    "    text = ' '.join([word for word in text.split() if word not in stopwords])\n",
    "    \n",
    "    return text"
   ]
  },
  {
   "cell_type": "code",
   "execution_count": 224,
   "id": "8fe3d9ff",
   "metadata": {},
   "outputs": [],
   "source": [
    "posts = y['Job Description'].tolist()\n",
    "clean_posts = list(map(clean_post, posts))\n",
    "vectorizer = CountVectorizer().fit_transform(clean_posts)\n",
    "vectors = vectorizer.toarray()\n",
    "csim = cosine_similarity(vectors)"
   ]
  },
  {
   "cell_type": "code",
   "execution_count": 225,
   "id": "93c6d869",
   "metadata": {},
   "outputs": [
    {
     "data": {
      "text/plain": [
       "[('engineering', 424),\n",
       " ('work', 345),\n",
       " ('experience', 315),\n",
       " ('design', 247),\n",
       " ('project', 234),\n",
       " ('engineer', 189),\n",
       " ('projects', 188),\n",
       " ('required', 146),\n",
       " ('including', 144),\n",
       " ('development', 141),\n",
       " ('team', 140),\n",
       " ('position', 136),\n",
       " ('skills', 133),\n",
       " ('technical', 131),\n",
       " ('may', 127),\n",
       " ('ability', 124),\n",
       " ('us', 119),\n",
       " ('must', 119),\n",
       " ('systems', 116),\n",
       " ('support', 112)]"
      ]
     },
     "execution_count": 225,
     "metadata": {},
     "output_type": "execute_result"
    }
   ],
   "source": [
    "from collections import Counter\n",
    "\n",
    "word_count =Counter(\" \".join(clean_posts).split()).most_common(20)\n",
    "word_count"
   ]
  },
  {
   "cell_type": "code",
   "execution_count": 284,
   "id": "067561b0",
   "metadata": {},
   "outputs": [],
   "source": [
    "abe_competencies = [' '.join(abe_comp['Outcome'])]\n",
    "clean_abe_comp = [clean_post(abe_competencies)]\n",
    "info = clean_abe_comp + clean_posts"
   ]
  },
  {
   "cell_type": "code",
   "execution_count": 285,
   "id": "0283a1b4",
   "metadata": {
    "scrolled": true
   },
   "outputs": [
    {
     "data": {
      "text/plain": [
       "array([1.        , 0.18422073, 0.06474772, 0.10024666, 0.06458504,\n",
       "       0.06258457, 0.08410313, 0.11267485, 0.18654777, 0.24262361,\n",
       "       0.21078208, 0.17607506, 0.06528679, 0.08105299, 0.28165238,\n",
       "       0.1980042 , 0.19798632, 0.07091021, 0.07645403, 0.15426311,\n",
       "       0.13724253, 0.20935814, 0.13396236, 0.16010009, 0.16533392,\n",
       "       0.25615471, 0.14844687, 0.27964032, 0.13740172, 0.2495729 ,\n",
       "       0.17743856, 0.14112142, 0.1759198 , 0.24039967, 0.17816909,\n",
       "       0.15427651, 0.08723571, 0.15248204, 0.15280734, 0.158354  ,\n",
       "       0.06734445, 0.12773812, 0.26037682, 0.22625708, 0.16881838,\n",
       "       0.23738385, 0.10874225, 0.22344128, 0.21148863, 0.25416298,\n",
       "       0.17377871, 0.11841497, 0.15725813, 0.15424714, 0.16836677,\n",
       "       0.07645403, 0.13324477, 0.1183164 , 0.1647447 , 0.18127747,\n",
       "       0.21786322, 0.11960929, 0.08179631, 0.2550891 , 0.19354275,\n",
       "       0.19717872, 0.08105299, 0.34305614, 0.19828507, 0.15711838,\n",
       "       0.14392357, 0.21744699, 0.18059795, 0.10884482, 0.17939555,\n",
       "       0.1532607 , 0.07400597, 0.16551689, 0.15469888, 0.22303382,\n",
       "       0.18495402, 0.16586995, 0.15725814, 0.0909628 , 0.09937928,\n",
       "       0.07460676, 0.23561258, 0.11072797, 0.40369502, 0.17607506,\n",
       "       0.34493547])"
      ]
     },
     "execution_count": 285,
     "metadata": {},
     "output_type": "execute_result"
    }
   ],
   "source": [
    "vectorizer = CountVectorizer().fit_transform(info)\n",
    "vectors = vectorizer.toarray()\n",
    "csim = cosine_similarity(vectors)\n",
    "csim[0]"
   ]
  },
  {
   "cell_type": "code",
   "execution_count": 237,
   "id": "81bcbd0d",
   "metadata": {},
   "outputs": [
    {
     "name": "stdout",
     "output_type": "stream",
     "text": [
      "dict_keys(['ability', 'identify', 'formulate', 'solve', 'complex', 'engineering', 'problems', 'applying', 'principles', 'science', 'mathematics', 'communicate', 'effectively', 'range', 'audiences', 'apply', 'design', 'produce', 'solutions', 'meet', 'specified', 'needs', 'consideration', 'public', 'health', 'safety', 'welfare', 'well', 'global', 'cultural', 'social', 'environmental', 'economic', 'factors', 'recognize', 'ethical', 'professional', 'responsibilities', 'situations', 'make', 'informed', 'judgments', 'must', 'consider', 'impact', 'societal', 'contexts', 'function', 'team', 'whose', 'members', 'together', 'provide', 'leadership', 'create', 'collaborative', 'inclusive', 'environment', 'establish', 'goals', 'plan', 'tasks', 'objectives', 'develop', 'conduct', 'appropriate', 'experimentation', 'analyze', 'interpret', 'data', 'use', 'judgment', 'draw', 'conclusions', 'acquire', 'new', 'knowledge', 'needed', 'using', 'learning', 'strategies'])\n"
     ]
    }
   ],
   "source": [
    "test = CountVectorizer()\n",
    "# provide vocabulary to vectorizer based on competencies\n",
    "vec = test.fit(clean_abe_comp)\n",
    "print(vec.vocabulary_.keys())"
   ]
  },
  {
   "cell_type": "code",
   "execution_count": 238,
   "id": "cdb8d43a",
   "metadata": {},
   "outputs": [],
   "source": [
    "# identify counts of vocabulary from competencies\n",
    "job_fit = test.transform(clean_posts)"
   ]
  },
  {
   "cell_type": "code",
   "execution_count": 239,
   "id": "3b80a7f2",
   "metadata": {},
   "outputs": [],
   "source": [
    "sim = job_fit.toarray()"
   ]
  },
  {
   "cell_type": "code",
   "execution_count": 286,
   "id": "79f87f13",
   "metadata": {},
   "outputs": [
    {
     "data": {
      "text/plain": [
       "(90, 81)"
      ]
     },
     "execution_count": 286,
     "metadata": {},
     "output_type": "execute_result"
    }
   ],
   "source": [
    "sim.shape"
   ]
  },
  {
   "cell_type": "code",
   "execution_count": 243,
   "id": "e970e5e4",
   "metadata": {},
   "outputs": [],
   "source": [
    "jsim = cosine_similarity(sim)\n",
    "# this is just similarity between posts, not to comp"
   ]
  },
  {
   "cell_type": "code",
   "execution_count": 244,
   "id": "55b4b579",
   "metadata": {},
   "outputs": [
    {
     "data": {
      "text/plain": [
       "array([[1.        , 0.30194054, 0.34426519, ..., 0.26069143, 0.45020003,\n",
       "        0.44248489],\n",
       "       [0.30194054, 1.        , 0.0877058 , ..., 0.15626908, 0.20853456,\n",
       "        0.21862494],\n",
       "       [0.34426519, 0.0877058 , 1.        , ..., 0.10096536, 0.63404262,\n",
       "        0.2388845 ],\n",
       "       ...,\n",
       "       [0.26069143, 0.15626908, 0.10096536, ..., 1.        , 0.31914029,\n",
       "        0.58570451],\n",
       "       [0.45020003, 0.20853456, 0.63404262, ..., 0.31914029, 1.        ,\n",
       "        0.63713221],\n",
       "       [0.44248489, 0.21862494, 0.2388845 , ..., 0.58570451, 0.63713221,\n",
       "        1.        ]])"
      ]
     },
     "execution_count": 244,
     "metadata": {},
     "output_type": "execute_result"
    }
   ],
   "source": [
    "jsim"
   ]
  },
  {
   "cell_type": "code",
   "execution_count": 245,
   "id": "91de1c07",
   "metadata": {},
   "outputs": [
    {
     "data": {
      "text/plain": [
       "<AxesSubplot:>"
      ]
     },
     "execution_count": 245,
     "metadata": {},
     "output_type": "execute_result"
    },
    {
     "data": {
      "image/png": "[encoded data removed]",
      "text/plain": [
       "<Figure size 432x288 with 2 Axes>"
      ]
     },
     "metadata": {
      "needs_background": "light"
     },
     "output_type": "display_data"
    }
   ],
   "source": [
    "import seaborn as sns\n",
    "\n",
    "sns.heatmap(jsim)"
   ]
  },
  {
   "cell_type": "code",
   "execution_count": 302,
   "id": "aff71a4b",
   "metadata": {},
   "outputs": [
    {
     "data": {
      "text/html": [
       "<div>\n",
       "<style scoped>\n",
       "    .dataframe tbody tr th:only-of-type {\n",
       "        vertical-align: middle;\n",
       "    }\n",
       "\n",
       "    .dataframe tbody tr th {\n",
       "        vertical-align: top;\n",
       "    }\n",
       "\n",
       "    .dataframe thead th {\n",
       "        text-align: right;\n",
       "    }\n",
       "</style>\n",
       "<table border=\"1\" class=\"dataframe\">\n",
       "  <thead>\n",
       "    <tr style=\"text-align: right;\">\n",
       "      <th></th>\n",
       "      <th>tfidf</th>\n",
       "    </tr>\n",
       "  </thead>\n",
       "  <tbody>\n",
       "    <tr>\n",
       "      <th>engineering</th>\n",
       "      <td>0.38490</td>\n",
       "    </tr>\n",
       "    <tr>\n",
       "      <th>complex</th>\n",
       "      <td>0.38490</td>\n",
       "    </tr>\n",
       "    <tr>\n",
       "      <th>develop</th>\n",
       "      <td>0.38490</td>\n",
       "    </tr>\n",
       "    <tr>\n",
       "      <th>apply</th>\n",
       "      <td>0.19245</td>\n",
       "    </tr>\n",
       "    <tr>\n",
       "      <th>establish</th>\n",
       "      <td>0.19245</td>\n",
       "    </tr>\n",
       "  </tbody>\n",
       "</table>\n",
       "</div>"
      ],
      "text/plain": [
       "               tfidf\n",
       "engineering  0.38490\n",
       "complex      0.38490\n",
       "develop      0.38490\n",
       "apply        0.19245\n",
       "establish    0.19245"
      ]
     },
     "execution_count": 302,
     "metadata": {},
     "output_type": "execute_result"
    }
   ],
   "source": [
    "tfidf_v = TfidfVectorizer()\n",
    "vocab = tfidf_v.fit(clean_abe_comp)\n",
    "job_assess = tfidf_v.transform(clean_posts)\n",
    "#job_fit = tfidf_v.inverse_transform(job_assess)\n",
    "prepared = job_assess[0]\n",
    "df = pd.DataFrame(prepared.T.todense(), index = tfidf_v.get_feature_names(), columns = ['tfidf']) \n",
    "df.sort_values(by=['tfidf'], ascending= False).head()"
   ]
  },
  {
   "cell_type": "code",
   "execution_count": 303,
   "id": "54aa014a",
   "metadata": {},
   "outputs": [],
   "source": [
    "job_assess = job_assess.toarray()"
   ]
  },
  {
   "cell_type": "code",
   "execution_count": null,
   "id": "ac8d4eba",
   "metadata": {},
   "outputs": [],
   "source": [
    "# identify common skills from each job, each job make common requirements & skills (1 list per job search term)\n",
    "\n",
    "#use tfidf vector for cosine similarity, heatmap w/ competencies"
   ]
  }
 ],
 "metadata": {
  "kernelspec": {
   "display_name": "Python 3",
   "language": "python",
   "name": "python3"
  },
  "language_info": {
   "codemirror_mode": {
    "name": "ipython",
    "version": 3
   },
   "file_extension": ".py",
   "mimetype": "text/x-python",
   "name": "python",
   "nbconvert_exporter": "python",
   "pygments_lexer": "ipython3",
   "version": "3.8.8"
  }
 },
 "nbformat": 4,
 "nbformat_minor": 5
}
