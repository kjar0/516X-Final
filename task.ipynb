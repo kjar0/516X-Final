{
 "cells": [
  {
   "cell_type": "markdown",
   "id": "adc13569",
   "metadata": {},
   "source": [
    "# ABE Competencies and Job Posts Homework"
   ]
  },
  {
   "cell_type": "code",
   "execution_count": 1,
   "id": "cc6250df",
   "metadata": {
    "scrolled": true
   },
   "outputs": [
    {
     "name": "stdout",
     "output_type": "stream",
     "text": [
      "TOP 10 EMPLOYERS FOR BSE AND AE \n",
      " \n",
      "BSE Common Employers:\n",
      " Cargill, Incorporated            6\n",
      "John Deere                       2\n",
      "Ardent Mills                     2\n",
      "PepsiCo                          2\n",
      "ADM                              2\n",
      "ISG                              2\n",
      "Burns & McDonnell Engineering    1\n",
      "DuPont Industrial Biosciences    1\n",
      "JLL                              1\n",
      "JEO Consulting Group, Inc.       1\n",
      "Name: Organization Name, dtype: int64\n",
      "AE Common Employers: \n",
      " John Deere                                     16\n",
      "Vermeer Corporation                            12\n",
      "Henning Companies LLC                           5\n",
      "AGCO Corporate Group                            5\n",
      "Kuhn North America, Inc.                        5\n",
      "Ag Leader Technology                            4\n",
      "USDA Natural Resources Conservation Service     3\n",
      "Energy Panel Structures, Inc.                   3\n",
      "Sage Ag LLC                                     3\n",
      "CNH Industrial                                  3\n",
      "Name: Organization Name, dtype: int64\n"
     ]
    }
   ],
   "source": [
    "import pandas as pd\n",
    "import string\n",
    "from sklearn.metrics.pairwise import cosine_similarity, euclidean_distances\n",
    "from sklearn.feature_extraction.text import CountVectorizer, TfidfVectorizer\n",
    "import seaborn as sns\n",
    "from collections import Counter\n",
    "\n",
    "abe_survey = pd.read_excel('ABE Career Outcomes Data 2016-2021.xlsx')\n",
    "competencies = pd.read_excel('competencies.xlsx')\n",
    "abe_comp = competencies[competencies['Major']=='Engineering'].drop(['Option(s)', 'Major'], axis=1)\n",
    "bse = abe_survey[abe_survey['Major 1 at Graduation'] == 'Biological Systems Engineering']\n",
    "ag = abe_survey[abe_survey['Major 1 at Graduation'] == 'Agricultural Engineering']\n",
    "print('TOP 10 EMPLOYERS FOR BSE AND AE \\n \\nBSE Common Employers:\\n',bse['Organization Name'].value_counts().nlargest(10))\n",
    "print('AE Common Employers: \\n', ag['Organization Name'].value_counts().nlargest(10))"
   ]
  },
  {
   "cell_type": "code",
   "execution_count": 60,
   "id": "60c79f39",
   "metadata": {},
   "outputs": [
    {
     "name": "stdout",
     "output_type": "stream",
     "text": [
      "Most popular BSE jobs:\n",
      " Design Engineer                      3\n",
      "Production Engineer                  3\n",
      "Production Management Engineer       2\n",
      "Management Associate                 2\n",
      "Supply chain management associate    1\n",
      "Name: Job Title, dtype: int64\n",
      "Most popular AG ENGR jobs:\n",
      " Design Engineer           25\n",
      "Project Engineer           9\n",
      "Manufacturing Engineer     7\n",
      "Agricultural Engineer      4\n",
      "Test Engineer              3\n",
      "Name: Job Title, dtype: int64\n"
     ]
    }
   ],
   "source": [
    "bse_job = bse['Job Title'].value_counts().nlargest(5)\n",
    "ag_job = ag['Job Title'].value_counts().nlargest(5)\n",
    "print(\"Most popular BSE jobs:\\n\", bse_job)\n",
    "print(\"Most popular AG ENGR jobs:\\n\", ag_job)"
   ]
  },
  {
   "cell_type": "code",
   "execution_count": 61,
   "id": "ccbef043",
   "metadata": {},
   "outputs": [
    {
     "data": {
      "text/plain": [
       "['Production Management Engineer',\n",
       " 'Manufacturing Engineer',\n",
       " 'Agricultural Engineer',\n",
       " 'Management Associate',\n",
       " 'Project Engineer',\n",
       " 'Production Engineer',\n",
       " 'Design Engineer']"
      ]
     },
     "execution_count": 61,
     "metadata": {},
     "output_type": "execute_result"
    }
   ],
   "source": [
    "bse_job = bse['Job Title'].value_counts().nlargest(4).to_frame()\n",
    "ag_job = ag['Job Title'].value_counts().nlargest(4).to_frame()\n",
    "bse_joblist = bse_job.index.tolist()\n",
    "ag_joblist = ag_job.index.tolist()\n",
    "abe_joblist = bse_joblist + ag_joblist\n",
    "abe_joblist = list(set(abe_joblist))\n",
    "abe_joblist"
   ]
  },
  {
   "cell_type": "markdown",
   "id": "db5e7850",
   "metadata": {},
   "source": [
    "# Task 1\n",
    "\n",
    "- Update the text scraping function `indeed_posts` to take an additional input of keywords and job location to narrow the search. Make the necessary changes to adjust the advanced search. "
   ]
  },
  {
   "cell_type": "code",
   "execution_count": 66,
   "id": "74f78450",
   "metadata": {},
   "outputs": [],
   "source": [
    "def indeed_posts(search_term, ___):\n",
    "\n",
    "    kw = search_term.split(\" \")\n",
    "    ## *************************** a huge thank you to Ryan Jeon for developing the base of this indeed text scraping code\n",
    "    # see supplemental information for the source code created by him, it has been modified for this application\n",
    "    from bs4 import BeautifulSoup\n",
    "    import requests\n",
    "    import time\n",
    "    import random\n",
    "    user_agents = ['Mozilla/5.0 (Windows NT 10.0; Win64; x64) AppleWebKit/537.36 (KHTML, like Gecko) Chrome/96.0.4664.93 Safari/537.36 Edg/96.0.1054.43',\n",
    "                  'Mozilla/5.0 (Windows NT 10.0; WOW64; Trident/7.0; rv:11.0) like Gecko',\n",
    "                  'Mozilla/5.0 (Windows NT 10.0) AppleWebKit/537.36 (KHTML, like Gecko) Chrome/96.0.4664.93 Safari/537.36',\n",
    "                  'Mozilla/5.0 (Windows NT 10.0; Win64; x64; rv:94.0) Gecko/20100101 Firefox/94.0']\n",
    "    df = pd.DataFrame(columns = [\"Job_Titles\"])\n",
    "    df2 = pd.DataFrame(columns = [\"Company\"])\n",
    "    df3 = pd.DataFrame(columns = [\"URL\"])\n",
    "    sind = f'https://www.indeed.com/jobs?as_and='\n",
    "    _ = ?\n",
    "    for pagenum in range(0,30,10):\n",
    "        for word in range(0,len(kw)-1):\n",
    "            search_url = sind + kw[word] + '%20'\n",
    "        search_url = search_url + kw[len(kw)-1] + kword + end+'%20&start=' + str(pagenum)\n",
    "        user_agent = random.choice(user_agents)\n",
    "        headers = {\n",
    "                'dnt': '1',\n",
    "                'upgrade-insecure-requests': '1',\n",
    "                'User-Agent': user_agent,\n",
    "                'accept': 'text/html,application/xhtml+xml,application/xml;q=0.9,image/webp,image/apng,*/*;q=0.8,application/signed-exchange;v=b3;q=0.9',\n",
    "                'sec-fetch-site': 'none',\n",
    "                'sec-fetch-mode': 'navigate',\n",
    "                'sec-fetch-user': '?1',\n",
    "                'sec-fetch-dest': 'document',\n",
    "                'accept-language': 'en-GB,en-US;q=0.9,en;q=0.8',\n",
    "                }\n",
    "        r = requests.get(search_url, headers = headers)\n",
    "        time.sleep(10*random.random())\n",
    "        soup = BeautifulSoup(r.text, 'html.parser')\n",
    "        titles = soup.select(\"h2 span\") \n",
    "        # select all span tags under the umbrella of h2 tags \n",
    "        companies = soup.find_all(class_ = \"companyName\")\n",
    "        URLs = soup.find_all('a', attrs = {'class' : 'tapItem'})\n",
    "        for title in titles:\n",
    "            titles_list = title.text\n",
    "            # the gotcha here is that there are \"news\" scattered so we have to remove those first before concatenating our data\n",
    "            df.loc[len(df.index)] = [titles_list]\n",
    "            df = df[df.Job_Titles != \"new\"]\n",
    "        for company in companies:\n",
    "            company_list = company.text\n",
    "            df2.loc[len(df2.index)] = [company_list]\n",
    "        for URL in URLs:\n",
    "            base = 'http://www.indeed.com'\n",
    "            link = URL.attrs['href']\n",
    "            new_URL = base + link\n",
    "            df3.loc[len(df3.index)] = [new_URL]    \n",
    "        ## *************************** end of code edited from Ryan Jeon's amazing work! :)\n",
    "    jdesc =  pd.DataFrame(columns = [\"Job Description\"])\n",
    "\n",
    "    for post in df3['URL']:\n",
    "        user_agent = random.choice(user_agents)\n",
    "        headers = {\n",
    "                'dnt': '1',\n",
    "                'upgrade-insecure-requests': '1',\n",
    "                'User-Agent': user_agent,\n",
    "                'accept': 'text/html,application/xhtml+xml,application/xml;q=0.9,image/webp,image/apng,*/*;q=0.8,application/signed-exchange;v=b3;q=0.9',\n",
    "                'sec-fetch-site': 'none',\n",
    "                'sec-fetch-mode': 'navigate',\n",
    "                'sec-fetch-user': '?1',\n",
    "                'sec-fetch-dest': 'document',\n",
    "                'accept-language': 'en-GB,en-US;q=0.9,en;q=0.8',\n",
    "                }\n",
    "        r = requests.get(post.format(0), headers = headers)\n",
    "        soup = BeautifulSoup(r.text, 'html.parser')\n",
    "        time.sleep(5*random.random())\n",
    "        job_description = soup.find('div',{'id':'jobDescriptionText'})\n",
    "        jd = job_description.get_text(separator=\" \") if job_description else \"N/A\"\n",
    "        jdesc.loc[len(jdesc.index)] = [jd.strip()]   \n",
    "    indeed = pd.concat([df, df2, df3, jdesc], axis=1, join='inner')\n",
    "    print(\"Done scraping for \", search_term)\n",
    "    return indeed"
   ]
  },
  {
   "cell_type": "markdown",
   "id": "caa20adc",
   "metadata": {},
   "source": [
    "# Task 2\n",
    "\n",
    "- Identify another text modeling approach/processing step that can better account for the similarity of the words used in used phrases (ex. project & projects, systems & system, etc!)\n",
    "- Remainder of base code has been provided here, but adjust as you see fit"
   ]
  },
  {
   "cell_type": "code",
   "execution_count": 63,
   "id": "ec1a8b79",
   "metadata": {},
   "outputs": [],
   "source": [
    "# function to clean up text (remove common value-minimal words, punctuation, capitalization)\n",
    "def clean_post(text):\n",
    "    from nltk.corpus import stopwords\n",
    "    stopwords = stopwords.words('english')\n",
    "    engr_stopwords = ['work', 'experience', 'job', 'ability', 'insurance', 'pay', 'location', 'requirements',\n",
    "                 'required', 'skill', 'skills', 'years', 'release', 'engineer', 'preferred', 'new', 'may', 'us', 'office',\n",
    "                 '3m', 'status', 'must', 'cemex', 'rfa', 'ula', 'position', 'benefits', 'including', 'gdcc', 'lockheed',\n",
    "                 'martin', 'andor', 'apple', 'company', 'target', 'federal', 'western', 'education', 'effectively',\n",
    "                 'appropriate', 'meet', 'acquire', 'first', 'needs', 'needed', 'mode', 'rf', 'nand', 'related',\n",
    "                 'cae', 'amazon', 'general', 'baker', 'zero', 'nos', 'employees', 'make']\n",
    "    stopwords.extend(engr_stopwords)\n",
    "    text = ''.join([word for word in text if word not in string.punctuation])\n",
    "    text = text.lower()\n",
    "    text = ' '.join([word for word in text.split() if word not in stopwords])\n",
    "    return text"
   ]
  },
  {
   "cell_type": "code",
   "execution_count": 64,
   "id": "0d2172f4",
   "metadata": {},
   "outputs": [],
   "source": [
    "def major_comp(joblist):\n",
    "    from sklearn.feature_extraction.text import TfidfVectorizer\n",
    "    import itertools\n",
    "    tfidf_v = TfidfVectorizer()\n",
    "    tskill = []\n",
    "    dfs = {}\n",
    "    for job in joblist:\n",
    "        search_results = indeed_posts(job)\n",
    "        posts = search_results['Job Description'].tolist()\n",
    "        clean_posts = list(map(clean_post, posts))\n",
    "        eval_job = tfidf_v.fit_transform(clean_posts)\n",
    "        fname = tfidf_v.get_feature_names()\n",
    "        \n",
    "        # creating dictionary of top skills\n",
    "        df = pd.DataFrame(eval_job.T.toarray(), index=fname)\n",
    "        job_avg = df.mean(axis=1)\n",
    "        job_avg = pd.DataFrame(job_avg.sort_values(ascending=False).nlargest(10))\n",
    "        job_avg.index.name = 'Skill'\n",
    "        job_avg.reset_index(inplace=True)\n",
    "        dfs[job] = pd.DataFrame(job_avg['Skill'])\n",
    "\n",
    "    # combine dictionary into dataframe\n",
    "    skillsdf = pd.concat(dfs, axis=1)\n",
    "    # column names = job title\n",
    "    skillsdf = skillsdf.droplevel(1, axis = 1)\n",
    "    skills4vec = []\n",
    "    # loop through jobs\n",
    "    for job in joblist:\n",
    "        # convert job key skills to list\n",
    "        a = skillsdf[job].tolist()\n",
    "        # change from 10 strings to one long string!\n",
    "        b = \" \".join(a)\n",
    "        # add to list of total skills, ready to use in Tfidf Vectorization\n",
    "        skills4vec.append(b)    \n",
    "    return skillsdf, skills4vec"
   ]
  },
  {
   "cell_type": "code",
   "execution_count": 67,
   "id": "7d41e93d",
   "metadata": {
    "scrolled": false
   },
   "outputs": [
    {
     "name": "stdout",
     "output_type": "stream",
     "text": [
      "Done scraping for  Production Management Engineer\n",
      "Done scraping for  Manufacturing Engineer\n",
      "Done scraping for  Agricultural Engineer\n",
      "Done scraping for  Management Associate\n",
      "Done scraping for  Project Engineer\n",
      "Done scraping for  Production Engineer\n",
      "Done scraping for  Design Engineer\n"
     ]
    }
   ],
   "source": [
    "job_skill_df, job_skill_4vec = major_comp(abe_joblist)"
   ]
  },
  {
   "cell_type": "code",
   "execution_count": 68,
   "id": "9be71497",
   "metadata": {},
   "outputs": [
    {
     "data": {
      "text/html": [
       "<div>\n",
       "<style scoped>\n",
       "    .dataframe tbody tr th:only-of-type {\n",
       "        vertical-align: middle;\n",
       "    }\n",
       "\n",
       "    .dataframe tbody tr th {\n",
       "        vertical-align: top;\n",
       "    }\n",
       "\n",
       "    .dataframe thead th {\n",
       "        text-align: right;\n",
       "    }\n",
       "</style>\n",
       "<table border=\"1\" class=\"dataframe\">\n",
       "  <thead>\n",
       "    <tr style=\"text-align: right;\">\n",
       "      <th></th>\n",
       "      <th>Production Management Engineer</th>\n",
       "      <th>Manufacturing Engineer</th>\n",
       "      <th>Agricultural Engineer</th>\n",
       "      <th>Management Associate</th>\n",
       "      <th>Project Engineer</th>\n",
       "      <th>Production Engineer</th>\n",
       "      <th>Design Engineer</th>\n",
       "    </tr>\n",
       "  </thead>\n",
       "  <tbody>\n",
       "    <tr>\n",
       "      <th>0</th>\n",
       "      <td>project</td>\n",
       "      <td>quality</td>\n",
       "      <td>engineering</td>\n",
       "      <td>team</td>\n",
       "      <td>project</td>\n",
       "      <td>quality</td>\n",
       "      <td>design</td>\n",
       "    </tr>\n",
       "    <tr>\n",
       "      <th>1</th>\n",
       "      <td>engineering</td>\n",
       "      <td>design</td>\n",
       "      <td>manufacturing</td>\n",
       "      <td>management</td>\n",
       "      <td>equipment</td>\n",
       "      <td>manufacturing</td>\n",
       "      <td>engineering</td>\n",
       "    </tr>\n",
       "    <tr>\n",
       "      <th>2</th>\n",
       "      <td>technical</td>\n",
       "      <td>equipment</td>\n",
       "      <td>process</td>\n",
       "      <td>leader</td>\n",
       "      <td>engineering</td>\n",
       "      <td>process</td>\n",
       "      <td>development</td>\n",
       "    </tr>\n",
       "    <tr>\n",
       "      <th>3</th>\n",
       "      <td>management</td>\n",
       "      <td>engineering</td>\n",
       "      <td>design</td>\n",
       "      <td>business</td>\n",
       "      <td>team</td>\n",
       "      <td>production</td>\n",
       "      <td>team</td>\n",
       "    </tr>\n",
       "    <tr>\n",
       "      <th>4</th>\n",
       "      <td>team</td>\n",
       "      <td>production</td>\n",
       "      <td>equipment</td>\n",
       "      <td>product</td>\n",
       "      <td>construction</td>\n",
       "      <td>engineering</td>\n",
       "      <td>software</td>\n",
       "    </tr>\n",
       "    <tr>\n",
       "      <th>5</th>\n",
       "      <td>equipment</td>\n",
       "      <td>maintenance</td>\n",
       "      <td>quality</td>\n",
       "      <td>development</td>\n",
       "      <td>systems</td>\n",
       "      <td>equipment</td>\n",
       "      <td>product</td>\n",
       "    </tr>\n",
       "    <tr>\n",
       "      <th>6</th>\n",
       "      <td>quality</td>\n",
       "      <td>technical</td>\n",
       "      <td>production</td>\n",
       "      <td>client</td>\n",
       "      <td>design</td>\n",
       "      <td>management</td>\n",
       "      <td>systems</td>\n",
       "    </tr>\n",
       "    <tr>\n",
       "      <th>7</th>\n",
       "      <td>support</td>\n",
       "      <td>support</td>\n",
       "      <td>project</td>\n",
       "      <td>university</td>\n",
       "      <td>management</td>\n",
       "      <td>processes</td>\n",
       "      <td>knowledge</td>\n",
       "    </tr>\n",
       "    <tr>\n",
       "      <th>8</th>\n",
       "      <td>development</td>\n",
       "      <td>manufacturing</td>\n",
       "      <td>team</td>\n",
       "      <td>time</td>\n",
       "      <td>technical</td>\n",
       "      <td>team</td>\n",
       "      <td>project</td>\n",
       "    </tr>\n",
       "    <tr>\n",
       "      <th>9</th>\n",
       "      <td>customer</td>\n",
       "      <td>process</td>\n",
       "      <td>state</td>\n",
       "      <td>project</td>\n",
       "      <td>schedule</td>\n",
       "      <td>product</td>\n",
       "      <td>test</td>\n",
       "    </tr>\n",
       "  </tbody>\n",
       "</table>\n",
       "</div>"
      ],
      "text/plain": [
       "  Production Management Engineer Manufacturing Engineer Agricultural Engineer  \\\n",
       "0                        project                quality           engineering   \n",
       "1                    engineering                 design         manufacturing   \n",
       "2                      technical              equipment               process   \n",
       "3                     management            engineering                design   \n",
       "4                           team             production             equipment   \n",
       "5                      equipment            maintenance               quality   \n",
       "6                        quality              technical            production   \n",
       "7                        support                support               project   \n",
       "8                    development          manufacturing                  team   \n",
       "9                       customer                process                 state   \n",
       "\n",
       "  Management Associate Project Engineer Production Engineer Design Engineer  \n",
       "0                 team          project             quality          design  \n",
       "1           management        equipment       manufacturing     engineering  \n",
       "2               leader      engineering             process     development  \n",
       "3             business             team          production            team  \n",
       "4              product     construction         engineering        software  \n",
       "5          development          systems           equipment         product  \n",
       "6               client           design          management         systems  \n",
       "7           university       management           processes       knowledge  \n",
       "8                 time        technical                team         project  \n",
       "9              project         schedule             product            test  "
      ]
     },
     "execution_count": 68,
     "metadata": {},
     "output_type": "execute_result"
    }
   ],
   "source": [
    "job_skill_df\n",
    "\n",
    "# added to removal: ''"
   ]
  },
  {
   "cell_type": "code",
   "execution_count": 114,
   "id": "57ae9fbe",
   "metadata": {
    "scrolled": false
   },
   "outputs": [],
   "source": [
    "# combine all competency strings into a single string or \"document\"\n",
    "abe_competencies = ' '.join(abe_comp['Outcome'])\n",
    "# utilize text cleaning function to remove non-keywords\n",
    "clean_abe_comp = clean_post(abe_competencies)\n",
    "jobncomp_4vec = \"\"\n",
    "jobncomp_4vec = [clean_abe_comp] + job_skill_4vec "
   ]
  },
  {
   "cell_type": "code",
   "execution_count": 127,
   "id": "3496f0ea",
   "metadata": {
    "scrolled": true
   },
   "outputs": [
    {
     "name": "stdout",
     "output_type": "stream",
     "text": [
      "29\n"
     ]
    },
    {
     "data": {
      "text/plain": [
       "['Outcomes',\n",
       " 'Production Management Engineer',\n",
       " 'Manufacturing Engineer',\n",
       " 'Agricultural Engineer',\n",
       " 'Management Associate',\n",
       " 'Project Engineer',\n",
       " 'Production Engineer',\n",
       " 'Design Engineer']"
      ]
     },
     "metadata": {},
     "output_type": "display_data"
    },
    {
     "data": {
      "text/plain": [
       "array([[1.        , 0.23902804, 0.24906492, 0.30278205, 0.02753456,\n",
       "        0.28130334, 0.23832191, 0.39331685]])"
      ]
     },
     "execution_count": 127,
     "metadata": {},
     "output_type": "execute_result"
    },
    {
     "data": {
      "image/png": "[encoded data removed]",
      "text/plain": [
       "<Figure size 432x288 with 2 Axes>"
      ]
     },
     "metadata": {
      "needs_background": "light"
     },
     "output_type": "display_data"
    }
   ],
   "source": [
    "# initialize vector and find TF-IDF matrix for each document\n",
    "tfidf_v = TfidfVectorizer()\n",
    "# train with vocabulary used in job postings\n",
    "jfit = tfidf_v.fit(job_skill_4vec)\n",
    "# transform job posting + competency key skills to TF-IDF matrix\n",
    "tf_matrix = tfidf_v.transform(jobncomp_4vec)\n",
    "fname = tfidf_v.get_feature_names()\n",
    "# find cosine similarity for competency vs. posting by job type\n",
    "import matplotlib.pyplot as plt\n",
    "csim = cosine_similarity(tf_matrix[0:1], tf_matrix)\n",
    "xlab = ['Outcomes'] + abe_joblist\n",
    "display(xlab)\n",
    "sns.heatmap(csim, xticklabels=xlab, yticklabels=['Outcomes'])\n",
    "plt.xticks(rotation=80)\n",
    "csim "
   ]
  },
  {
   "cell_type": "code",
   "execution_count": 137,
   "id": "137c4225",
   "metadata": {
    "scrolled": true
   },
   "outputs": [
    {
     "data": {
      "text/plain": [
       "(8,)"
      ]
     },
     "execution_count": 137,
     "metadata": {},
     "output_type": "execute_result"
    }
   ],
   "source": [
    "tf_matrix.T.toarray().shape\n",
    "out = tf_matrix.T.toarray()[:][0]\n",
    "out.shape\n",
    "# 29 = one element per key term\n",
    "# 8 = one column per document\n",
    "#df = pd.DataFrame(tf_matrix.T.toarray(), index=fname)\n",
    "\n",
    "#df = df.sort_values(by=0, ascending=False)\n",
    "#df.index.name = 'Outcome'\n",
    "#df.reset_index(inplace=True)\n",
    "#job_skill_df['Outcome'] = pd.DataFrame(df['Outcome'][:10])\n",
    "#job_skill_df\n"
   ]
  },
  {
   "cell_type": "code",
   "execution_count": 2,
   "id": "0696b065",
   "metadata": {
    "scrolled": false
   },
   "outputs": [
    {
     "ename": "NameError",
     "evalue": "name 'tf_matrix' is not defined",
     "output_type": "error",
     "traceback": [
      "\u001b[1;31m---------------------------------------------------------------------------\u001b[0m",
      "\u001b[1;31mNameError\u001b[0m                                 Traceback (most recent call last)",
      "\u001b[1;32m<ipython-input-2-733664cee272>\u001b[0m in \u001b[0;36m<module>\u001b[1;34m\u001b[0m\n\u001b[1;32m----> 1\u001b[1;33m \u001b[0mdf\u001b[0m \u001b[1;33m=\u001b[0m \u001b[0mpd\u001b[0m\u001b[1;33m.\u001b[0m\u001b[0mDataFrame\u001b[0m\u001b[1;33m(\u001b[0m\u001b[0mtf_matrix\u001b[0m\u001b[1;33m.\u001b[0m\u001b[0mT\u001b[0m\u001b[1;33m.\u001b[0m\u001b[0mtoarray\u001b[0m\u001b[1;33m(\u001b[0m\u001b[1;33m)\u001b[0m\u001b[1;33m,\u001b[0m \u001b[0mindex\u001b[0m\u001b[1;33m=\u001b[0m\u001b[0mfname\u001b[0m\u001b[1;33m)\u001b[0m\u001b[1;33m\u001b[0m\u001b[1;33m\u001b[0m\u001b[0m\n\u001b[0m\u001b[0;32m      2\u001b[0m \u001b[0mdf\u001b[0m \u001b[1;33m=\u001b[0m \u001b[0mdf\u001b[0m\u001b[1;33m.\u001b[0m\u001b[0msort_values\u001b[0m\u001b[1;33m(\u001b[0m\u001b[0mby\u001b[0m\u001b[1;33m=\u001b[0m\u001b[1;36m0\u001b[0m\u001b[1;33m,\u001b[0m \u001b[0mascending\u001b[0m\u001b[1;33m=\u001b[0m\u001b[1;32mFalse\u001b[0m\u001b[1;33m)\u001b[0m\u001b[1;33m\u001b[0m\u001b[1;33m\u001b[0m\u001b[0m\n\u001b[0;32m      3\u001b[0m \u001b[0mdf\u001b[0m\u001b[1;33m.\u001b[0m\u001b[0mindex\u001b[0m\u001b[1;33m.\u001b[0m\u001b[0mname\u001b[0m \u001b[1;33m=\u001b[0m \u001b[1;34m'Outcome'\u001b[0m\u001b[1;33m\u001b[0m\u001b[1;33m\u001b[0m\u001b[0m\n\u001b[0;32m      4\u001b[0m \u001b[0mdf\u001b[0m\u001b[1;33m.\u001b[0m\u001b[0mreset_index\u001b[0m\u001b[1;33m(\u001b[0m\u001b[0minplace\u001b[0m\u001b[1;33m=\u001b[0m\u001b[1;32mTrue\u001b[0m\u001b[1;33m)\u001b[0m\u001b[1;33m\u001b[0m\u001b[1;33m\u001b[0m\u001b[0m\n\u001b[0;32m      5\u001b[0m \u001b[0mjob_skill_df\u001b[0m\u001b[1;33m[\u001b[0m\u001b[1;34m'Outcome'\u001b[0m\u001b[1;33m]\u001b[0m \u001b[1;33m=\u001b[0m \u001b[0mpd\u001b[0m\u001b[1;33m.\u001b[0m\u001b[0mDataFrame\u001b[0m\u001b[1;33m(\u001b[0m\u001b[0mdf\u001b[0m\u001b[1;33m[\u001b[0m\u001b[1;34m'Outcome'\u001b[0m\u001b[1;33m]\u001b[0m\u001b[1;33m[\u001b[0m\u001b[1;33m:\u001b[0m\u001b[1;36m4\u001b[0m\u001b[1;33m]\u001b[0m\u001b[1;33m)\u001b[0m\u001b[1;33m\u001b[0m\u001b[1;33m\u001b[0m\u001b[0m\n",
      "\u001b[1;31mNameError\u001b[0m: name 'tf_matrix' is not defined"
     ]
    }
   ],
   "source": [
    "df = pd.DataFrame(tf_matrix.T.toarray(), index=fname)\n",
    "df = df.sort_values(by=0, ascending=False)\n",
    "df.index.name = 'Outcome'\n",
    "df.reset_index(inplace=True)\n",
    "job_skill_df['Outcome'] = pd.DataFrame(df['Outcome'][:4])\n",
    "job_skill_df"
   ]
  },
  {
   "cell_type": "code",
   "execution_count": 162,
   "id": "780b84c5",
   "metadata": {},
   "outputs": [
    {
     "data": {
      "text/plain": [
       "[('engineering', 6),\n",
       " ('team', 6),\n",
       " ('project', 5),\n",
       " ('equipment', 5),\n",
       " ('quality', 4),\n",
       " ('design', 4),\n",
       " ('management', 4),\n",
       " ('manufacturing', 3),\n",
       " ('technical', 3),\n",
       " ('process', 3)]"
      ]
     },
     "execution_count": 162,
     "metadata": {},
     "output_type": "execute_result"
    }
   ],
   "source": [
    "import numpy as np\n",
    "# dataframe --> single array of all job keywords\n",
    "x = job_skill_df.drop(['Outcome'], axis=1).to_numpy()\n",
    "kwlist =x.flatten()\n",
    "# count frequency\n",
    "Counter(kwlist).most_common(10)"
   ]
  }
 ],
 "metadata": {
  "kernelspec": {
   "display_name": "Python 3",
   "language": "python",
   "name": "python3"
  },
  "language_info": {
   "codemirror_mode": {
    "name": "ipython",
    "version": 3
   },
   "file_extension": ".py",
   "mimetype": "text/x-python",
   "name": "python",
   "nbconvert_exporter": "python",
   "pygments_lexer": "ipython3",
   "version": "3.8.8"
  }
 },
 "nbformat": 4,
 "nbformat_minor": 5
}
